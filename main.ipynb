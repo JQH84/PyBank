{
 "cells": [
  {
   "cell_type": "markdown",
   "metadata": {},
   "source": [
    "# Library Imports \n",
    "CSV to manipulate the raw data , pathlib to access the data files for reading and writing"
   ]
  },
  {
   "cell_type": "code",
   "execution_count": 1,
   "metadata": {},
   "outputs": [],
   "source": [
    "from pathlib import Path\n",
    "import csv "
   ]
  },
  {
   "cell_type": "markdown",
   "metadata": {},
   "source": [
    "# Pesudo Code\n",
    "\n",
    "The script will look for a budget_data.csv file in a Resources folder within the project folder to read and perform data analysis on to calculate the metrics described in the README.md file\n",
    "\n",
    "The code will do the follwing : \n",
    "- Set the file path to point to the Resources folder to read the Budget CSV file\n",
    "- Use the CSV.reader function to read in the csv and store in a variable ( dictionary object )\n",
    "- Create empty variables to count number of items in lists \n",
    "- convert the data types within the datasets to their respective types ( date , integer for profit / loss )\n",
    "- perform the calculations and store the metrics in a list called summary \n",
    "- print the summary list to the terminal and save the output to a txt file "
   ]
  },
  {
   "cell_type": "markdown",
   "metadata": {},
   "source": [
    "# Data Loading and Storing for Manipulation "
   ]
  },
  {
   "cell_type": "code",
   "execution_count": 2,
   "metadata": {},
   "outputs": [],
   "source": [
    "#set the file path \n",
    "filepath = \"Resources/budget_data.csv\"\n",
    "\n",
    "# creating and empty dict to store the csv row data and header \n",
    "\n",
    "budget_date = []\n",
    "budget_pnl = []\n",
    "\n",
    "#open the file and read what is inside the CSV file \n",
    "with open(filepath, 'r') as csvfile:\n",
    "    file = csv.reader(csvfile, delimiter = ',')\n",
    "    # get the header to save into the dict \n",
    "    budget_header = next(csvfile)\n",
    "    \n",
    "    #loop through the lines and store the csv data into the dict file budget \n",
    "    for row in file:\n",
    "        budget_date.append(row[0])\n",
    "        budget_pnl.append(int(row[1]))\n",
    "    budget = {\"Date\" : budget_date , \"Profit/Losses\" : budget_pnl}\n",
    "        \n",
    "        "
   ]
  },
  {
   "cell_type": "markdown",
   "metadata": {},
   "source": [
    "# Metric Calculations Section :\n",
    "* The total number of months included in the dataset.\n",
    "* The net total amount of Profit/Losses over the entire period.\n",
    "* The average of the changes in Profit/Losses over the entire period.\n",
    "* The greatest increase in profits (date and amount) over the entire period.\n",
    "* The greatest decrease in losses (date and amount) over the entire period."
   ]
  },
  {
   "cell_type": "code",
   "execution_count": 3,
   "metadata": {},
   "outputs": [],
   "source": [
    "# The total number of months included in the dataset.\n",
    "\n",
    "total_number_month = len(budget_date)  \n",
    "\n",
    "# The net total amount of Profit/Losses over the entire period.\n",
    "net_total_pnl = 0 \n",
    "for i in range(len(budget_pnl)):\n",
    "    net_total_pnl += budget_pnl[i]\n",
    "\n",
    "# The average of the changes in Profit/Losses over the entire period.\n",
    "\n",
    "avarage = round((net_total_pnl/total_number_month),2)\n",
    "\n",
    "# The greatest increase and decrease in profits (date and amount) over the entire period.\n",
    "\n",
    "max_profit = max(budget_pnl)\n",
    "min_profit = min(budget_pnl)\n",
    "max_date = None\n",
    "min_date = None\n",
    "\n",
    "for i in range(len(budget_pnl)):\n",
    "    if budget['Profit/Losses'][i] == max_profit:\n",
    "        max_date = budget['Date'][i] \n",
    "        \n",
    "for i in range(len(budget_pnl)):\n",
    "    if budget['Profit/Losses'][i] == min_profit:\n",
    "        min_date = budget['Date'][i]\n",
    "        \n",
    "\n",
    "\n"
   ]
  },
  {
   "cell_type": "markdown",
   "metadata": {},
   "source": [
    "# Summary Statistics of Financial Record "
   ]
  },
  {
   "cell_type": "code",
   "execution_count": 4,
   "metadata": {},
   "outputs": [
    {
     "ename": "IndentationError",
     "evalue": "unexpected indent (4200582642.py, line 3)",
     "output_type": "error",
     "traceback": [
      "\u001b[0;36m  File \u001b[0;32m\"/var/folders/h4/m4qlztkx7ljd8rgkq9h9bwpr0000gn/T/ipykernel_48487/4200582642.py\"\u001b[0;36m, line \u001b[0;32m3\u001b[0m\n\u001b[0;31m    print(\"Financial Analysis\")\u001b[0m\n\u001b[0m    ^\u001b[0m\n\u001b[0;31mIndentationError\u001b[0m\u001b[0;31m:\u001b[0m unexpected indent\n"
     ]
    }
   ],
   "source": [
    "# printing out the summary statistics\n",
    "\n",
    "print(\"Financial Analysis\")\n",
    "print(\"------------------------------------------------------------\")\n",
    "print(f\"Total Months: {total_number_month} Months\")\n",
    "print(f\"Total Profits/Losses: ${net_total_pnl}\")\n",
    "print(f\"Avarage Change: ${avarage}\")\n",
    "print(f\"Greatest increase in  Profits was ${max_profit} on {max_date}\" )\n",
    "print(f\"Greatest Decrease in  Profits was ${min_profit} on {min_date}\" )\n",
    "\n",
    "# creating a file to save the output as txt\n",
    "output = Path(\"results/output.txt\")\n",
    "\n",
    "with open(output,'w') as file:\n",
    "    file.write(\"Financial Analysis\\n\")\n",
    "    file.write(\"------------------------------------------------------------\\n\")\n",
    "    file.write(f\"Total Months: {total_number_month} Months\\n\")\n",
    "    file.write(f\"Total Profits/Losses: ${net_total_pnl}\\n\")\n",
    "    file.write(f\"Avarage Change: ${avarage}\\n\")\n",
    "    file.write(f\"Greatest increase in  Profits was ${max_profit} on {max_date}\\n\" )\n",
    "    file.write(f\"Greatest Decrease in  Profits was ${min_profit} on {min_date}\" )"
   ]
  }
 ],
 "metadata": {
  "interpreter": {
   "hash": "40d3a090f54c6569ab1632332b64b2c03c39dcf918b08424e98f38b5ae0af88f"
  },
  "kernelspec": {
   "display_name": "Python 3.8.2 64-bit ('base': conda)",
   "language": "python",
   "name": "python3"
  },
  "language_info": {
   "codemirror_mode": {
    "name": "ipython",
    "version": 3
   },
   "file_extension": ".py",
   "mimetype": "text/x-python",
   "name": "python",
   "nbconvert_exporter": "python",
   "pygments_lexer": "ipython3",
   "version": "3.8.2"
  },
  "orig_nbformat": 4
 },
 "nbformat": 4,
 "nbformat_minor": 2
}
