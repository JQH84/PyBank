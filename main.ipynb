{
 "cells": [
  {
   "cell_type": "markdown",
   "metadata": {},
   "source": [
    "# Library Imports ( CSV to manipulate the raw data , pathlib to access the data )"
   ]
  },
  {
   "cell_type": "code",
   "execution_count": 14,
   "metadata": {},
   "outputs": [],
   "source": [
    "import csv \n",
    "from pathlib import Path\n",
    "import datetime"
   ]
  },
  {
   "cell_type": "markdown",
   "metadata": {},
   "source": [
    "#Pesudo Code"
   ]
  },
  {
   "cell_type": "code",
   "execution_count": 15,
   "metadata": {},
   "outputs": [
    {
     "data": {
      "text/plain": [
       "'\\nThe script will look for a budget_data.csv file in a Resources folder within the project folder to read and perform data analysis on to calculate the metrics described in the README.md file\\n\\nThe code will do the follwing : \\n- Set the file path to point to the Resources folder to read the Budget CSV file\\n- Use the CSV.reader function to read in the csv and store in a variable ( dictionary object )\\n- Create empty variables to count number of items in lists \\n- convert the data types within the datasets to their respective types ( date , integer for profit / loss )\\n- perform the calculations and store the metrics in a list called summary \\n- print the summary list to the terminal and save the output to a txt file \\n\\n'"
      ]
     },
     "execution_count": 15,
     "metadata": {},
     "output_type": "execute_result"
    }
   ],
   "source": [
    "\n",
    "'''\n",
    "The script will look for a budget_data.csv file in a Resources folder within the project folder to read and perform data analysis on to calculate the metrics described in the README.md file\n",
    "\n",
    "The code will do the follwing : \n",
    "- Set the file path to point to the Resources folder to read the Budget CSV file\n",
    "- Use the CSV.reader function to read in the csv and store in a variable ( dictionary object )\n",
    "- Create empty variables to count number of items in lists \n",
    "- convert the data types within the datasets to their respective types ( date , integer for profit / loss )\n",
    "- perform the calculations and store the metrics in a list called summary \n",
    "- print the summary list to the terminal and save the output to a txt file \n",
    "\n",
    "'''"
   ]
  },
  {
   "cell_type": "markdown",
   "metadata": {},
   "source": [
    "# Data Loading and Storing for Manipulation "
   ]
  },
  {
   "cell_type": "code",
   "execution_count": 16,
   "metadata": {},
   "outputs": [],
   "source": [
    "#set the file path \n",
    "filepath = \"Resources/budget_data.csv\"\n",
    "\n",
    "# creating and empty dict to store the csv row data and header \n",
    "\n",
    "budget_date = []\n",
    "budget_pnl = []\n",
    "\n",
    "\n",
    "\n",
    "#open the file and read what is inside the CSV file \n",
    "with open(filepath, 'r') as csvfile:\n",
    "    file = csv.reader(csvfile, delimiter = ',')\n",
    "    # get the header to save into the dict \n",
    "    budget_header = next(csvfile)\n",
    "    \n",
    "    #loop through the lines and store the csv data into the dict file budget \n",
    "    for row in file:\n",
    "    \n",
    "        budget_date.append(row[0])\n",
    "        budget_pnl.append(int(row[1]))\n",
    "    \n",
    "    budget = {\"Date\" : budget_date , \"Profit/Losses\" : budget_pnl}\n",
    "        \n",
    "        "
   ]
  },
  {
   "cell_type": "markdown",
   "metadata": {},
   "source": [
    "# Metric Calculations Section :\n",
    "* The total number of months included in the dataset.\n",
    "* The net total amount of Profit/Losses over the entire period.\n",
    "* The average of the changes in Profit/Losses over the entire period.\n",
    "* The greatest increase in profits (date and amount) over the entire period.\n",
    "* The greatest decrease in losses (date and amount) over the entire period."
   ]
  },
  {
   "cell_type": "code",
   "execution_count": 17,
   "metadata": {},
   "outputs": [],
   "source": [
    "# The total number of months included in the dataset.\n",
    "\n",
    "total_number_month = len(budget_date)  \n",
    "\n",
    "# The net total amount of Profit/Losses over the entire period.\n",
    "net_total_pnl = 0 \n",
    "for i in range(len(budget_pnl)):\n",
    "    net_total_pnl = net_total_pnl + budget_pnl[i]\n",
    "\n",
    "\n",
    "# The average of the changes in Profit/Losses over the entire period.\n",
    "\n",
    "avarage = round((net_total_pnl/total_number_month),2)\n",
    "\n",
    "# The greatest increase and decrease in profits (date and amount) over the entire period.\n",
    "\n",
    "max_profit = 0 \n",
    "min_profit = 0 \n",
    "for pnl in budget_pnl:\n",
    "    if min_profit == 0 : \n",
    "        min_profit = pnl \n",
    "    elif pnl > max_profit:\n",
    "        max_profit = pnl\n",
    "    elif pnl < min_profit:\n",
    "        min_profit = pnl \n",
    "\n"
   ]
  },
  {
   "cell_type": "code",
   "execution_count": 21,
   "metadata": {},
   "outputs": [
    {
     "data": {
      "text/plain": [
       "-1196225"
      ]
     },
     "execution_count": 21,
     "metadata": {},
     "output_type": "execute_result"
    }
   ],
   "source": [
    "min(budget[\"Profit/Losses\"])"
   ]
  },
  {
   "cell_type": "markdown",
   "metadata": {},
   "source": [
    "# Summary Statistics of Financial Record "
   ]
  },
  {
   "cell_type": "code",
   "execution_count": 19,
   "metadata": {},
   "outputs": [
    {
     "name": "stdout",
     "output_type": "stream",
     "text": [
      "The Total number of months that were analyzed were 86 Months\n",
      "The Net Total Profits/Losses over the entire period is 38382578$\n",
      "The Avarage of changes in PnL was 446309.05$\n",
      "The Greatest increase in  profits was 1170593$ on \n",
      "The Greatest Decrease in  profits was -1196225$ on \n"
     ]
    },
    {
     "data": {
      "text/plain": [
       "'\\n* The total number of months included in the dataset.\\xa0\\n* The net total amount of Profit/Losses over the entire period.\\n* The average of the changes in Profit/Losses over the entire period.\\n* The greatest increase in profits (date and amount) over the entire period.\\n* The greatest decrease in losses (date and amount) over the entire period.\\n'"
      ]
     },
     "execution_count": 19,
     "metadata": {},
     "output_type": "execute_result"
    }
   ],
   "source": [
    "print(f\"The Total number of months that were analyzed were {total_number_month} Months\")\n",
    "print(f\"The Net Total Profits/Losses over the entire period is {net_total_pnl}$\")\n",
    "print(f\"The Avarage of changes in PnL was {avarage}$\")\n",
    "print(f\"The Greatest increase in  profits was {max_profit}$ on \" ) # Need code to extract the date\n",
    "print(f\"The Greatest Decrease in  profits was {min_profit}$ on \" ) # Need code to extract the date \n",
    "\n",
    "\"\"\"\n",
    "* The total number of months included in the dataset. \n",
    "* The net total amount of Profit/Losses over the entire period.\n",
    "* The average of the changes in Profit/Losses over the entire period.\n",
    "* The greatest increase in profits (date and amount) over the entire period.\n",
    "* The greatest decrease in losses (date and amount) over the entire period.\n",
    "\"\"\""
   ]
  }
 ],
 "metadata": {
  "interpreter": {
   "hash": "40d3a090f54c6569ab1632332b64b2c03c39dcf918b08424e98f38b5ae0af88f"
  },
  "kernelspec": {
   "display_name": "Python 3.8.2 64-bit ('base': conda)",
   "language": "python",
   "name": "python3"
  },
  "language_info": {
   "codemirror_mode": {
    "name": "ipython",
    "version": 3
   },
   "file_extension": ".py",
   "mimetype": "text/x-python",
   "name": "python",
   "nbconvert_exporter": "python",
   "pygments_lexer": "ipython3",
   "version": "3.8.2"
  },
  "orig_nbformat": 4
 },
 "nbformat": 4,
 "nbformat_minor": 2
}
